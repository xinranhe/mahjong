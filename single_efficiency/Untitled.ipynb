{
 "cells": [
  {
   "cell_type": "code",
   "execution_count": 1,
   "metadata": {
    "collapsed": true
   },
   "outputs": [],
   "source": [
    "import numpy as np\n",
    "import random\n",
    "\n",
    "from mahjong.shanten import Shanten\n",
    "from mahjong.agari import Agari\n",
    "from mahjong.hand_calculating.hand import HandCalculator\n",
    "from mahjong.hand_calculating.hand_config import HandConfig\n",
    "from mahjong.tile import TilesConverter\n",
    "\n",
    "SHANTEN = Shanten()\n",
    "CALCULATOR = HandCalculator()\n",
    "AGARI = Agari()\n",
    "NUM_HAIS = 34"
   ]
  },
  {
   "cell_type": "code",
   "execution_count": 2,
   "metadata": {
    "collapsed": true
   },
   "outputs": [],
   "source": [
    "# load data\n",
    "def load_hand(files):\n",
    "    hands = []\n",
    "    for file_path in files:\n",
    "        for line in open(file_path, \"r\"):\n",
    "            fields = line[:-1].split(\":\")\n",
    "            shanten = int(fields[0])\n",
    "            hand = [int(hid) for hid in fields[1].split(\",\")]\n",
    "            hands.append((shanten, hand))\n",
    "    return hands"
   ]
  },
  {
   "cell_type": "code",
   "execution_count": 3,
   "metadata": {},
   "outputs": [],
   "source": [
    "hands = load_hand([\"/Users/xinran.he/GitProjects/mahjong/data/single_hand_efficiency/20180101.txt\"])"
   ]
  },
  {
   "cell_type": "code",
   "execution_count": 4,
   "metadata": {},
   "outputs": [
    {
     "name": "stdout",
     "output_type": "stream",
     "text": [
      "(4, [0, 1, 2, 5, 6, 6, 12, 15, 16, 16, 18, 23, 29])\n"
     ]
    }
   ],
   "source": [
    "print hands[0]"
   ]
  },
  {
   "cell_type": "code",
   "execution_count": 5,
   "metadata": {
    "collapsed": true
   },
   "outputs": [],
   "source": [
    "def get_total_score(hand34, wintile34):\n",
    "    result = CALCULATOR.estimate_hand_value(TilesConverter.to_136_array(hand34), wintile34 * 4, config=HandConfig(is_tsumo=True))\n",
    "    return result.cost['main'] + 2 * result.cost['additional']"
   ]
  },
  {
   "cell_type": "code",
   "execution_count": 6,
   "metadata": {
    "collapsed": true
   },
   "outputs": [],
   "source": [
    "def is_agari(hand34):\n",
    "    return AGARI.is_agari(hand34)"
   ]
  },
  {
   "cell_type": "code",
   "execution_count": 7,
   "metadata": {
    "collapsed": true
   },
   "outputs": [],
   "source": [
    "def greedy_shanten(hand34):\n",
    "    initial_shanten = SHANTEN.calculate_shanten(hand34)\n",
    "    discards = []\n",
    "    for i in xrange(34):\n",
    "        if hand34[i] > 0:\n",
    "            hand34[i] -= 1\n",
    "            if SHANTEN.calculate_shanten(hand34) == initial_shanten:\n",
    "                discards.append(i)\n",
    "            hand34[i] += 1\n",
    "    return random.choice(discards)"
   ]
  },
  {
   "cell_type": "code",
   "execution_count": 8,
   "metadata": {
    "collapsed": true
   },
   "outputs": [],
   "source": [
    "def compute_jinzhang(hand34, left_tiles):\n",
    "    initial_shanten = SHANTEN.calculate_shanten(hand34)\n",
    "    result = np.zeros(NUM_HAIS)\n",
    "    for i in xrange(NUM_HAIS):\n",
    "        num_hais = left_tiles[i]\n",
    "        if num_hais > 0:\n",
    "            hand34[i] += 1\n",
    "            new_shanten = SHANTEN.calculate_shanten(hand34)\n",
    "            if (new_shanten < initial_shanten):\n",
    "                result[i] = num_hais\n",
    "            hand34[i] -= 1\n",
    "    return np.sum(result)"
   ]
  },
  {
   "cell_type": "code",
   "execution_count": 30,
   "metadata": {
    "collapsed": true
   },
   "outputs": [],
   "source": [
    "def compute_discard_jinzhange(tiles, left_tiles):\n",
    "    initial_shanten = SHANTEN.calculate_shanten(tiles)\n",
    "    results = []\n",
    "    best_jinzhang_num = 0\n",
    "    for i in xrange(NUM_HAIS):\n",
    "        if tiles[i] > 0:\n",
    "            tiles[i] -= 1\n",
    "            new_shanten = SHANTEN.calculate_shanten(tiles)\n",
    "            if new_shanten == initial_shanten:\n",
    "                num_jinzhang = compute_jinzhang(tiles, left_tiles)\n",
    "                if num_jinzhang > best_jinzhang_num:\n",
    "                    best_jinzhang_num = num_jinzhang\n",
    "                results.append((num_jinzhang, i))\n",
    "            tiles[i] += 1\n",
    "    discards = [r[1] for r in results if r[0] == best_jinzhang_num]\n",
    "    return random.choice(discards)"
   ]
  },
  {
   "cell_type": "code",
   "execution_count": 10,
   "metadata": {
    "collapsed": true
   },
   "outputs": [],
   "source": [
    "def discard(tiles):\n",
    "    return tiles[-1]"
   ]
  },
  {
   "cell_type": "code",
   "execution_count": 11,
   "metadata": {
    "collapsed": true
   },
   "outputs": [],
   "source": [
    "TO_GRAPH_LIST = [\n",
    "    \"🀇\", \"🀈\", \"🀉\", \"🀊\", \"🀋\", \"🀌\", \"🀍\", \"🀎\", \"🀏\", \"🀙\", \"🀚\", \"🀛\", \"🀜\", \"🀝\", \"🀞\", \"🀟\", \"🀠\", \"🀡\",\n",
    "    \"🀐\", \"🀑\", \"🀒\", \"🀓\", \"🀔\", \"🀕\", \"🀖\", \"🀗\", \"🀘\", \"🀀\", \"🀁\", \"🀂\", \"🀃\", \"🀆\", \"🀅\", \"🀄\"\n",
    "]"
   ]
  },
  {
   "cell_type": "code",
   "execution_count": 12,
   "metadata": {
    "collapsed": true
   },
   "outputs": [],
   "source": [
    "def tiles34_to_list(tiles):\n",
    "    result = []\n",
    "    for i in xrange(34):\n",
    "        for j in xrange(tiles[i]):\n",
    "            result.append(i)\n",
    "    return sorted(result)"
   ]
  },
  {
   "cell_type": "code",
   "execution_count": 13,
   "metadata": {
    "collapsed": true
   },
   "outputs": [],
   "source": [
    "def print_tile34_hand(tiles):\n",
    "    result = \"\"\n",
    "    for i in xrange(NUM_HAIS):\n",
    "        for j in xrange(tiles[i]):\n",
    "            result += TO_GRAPH_LIST[i]\n",
    "    print result"
   ]
  },
  {
   "cell_type": "code",
   "execution_count": 41,
   "metadata": {},
   "outputs": [],
   "source": [
    "MAX_ROUND = 30\n",
    "NEGATIVE_REWARD = 0\n",
    "DISCOUNT_FACTOR = 0.95\n",
    "\n",
    "def simulate(init_hand, strategy, is_debug=False):\n",
    "    # init\n",
    "    current_hand = [0] * NUM_HAIS\n",
    "    left_tiles = [4] * NUM_HAIS\n",
    "    for hai in init_hand:\n",
    "        left_tiles[hai] -= 1\n",
    "        current_hand[hai] += 1\n",
    "    yama = tiles34_to_list(left_tiles)\n",
    "    random.shuffle(yama)\n",
    "    \n",
    "    rewards = [-1] * MAX_ROUND\n",
    "    # (hand, reward)\n",
    "    data = []\n",
    "    for i in xrange(MAX_ROUND):\n",
    "        data.append([tiles34_to_list(current_hand), NEGATIVE_REWARD])\n",
    "        \n",
    "        # draw new tile\n",
    "        new_tile = yama[i]\n",
    "        \n",
    "        if is_debug:\n",
    "            print_tile34_hand(current_hand)\n",
    "            print TO_GRAPH_LIST[new_tile]\n",
    "            \n",
    "        current_hand[new_tile] += 1\n",
    "        left_tiles[new_tile] -= 1\n",
    "        if is_agari(current_hand):\n",
    "            data[i][1] = get_total_score(current_hand, new_tile) / 100.0\n",
    "            if is_debug:\n",
    "                print \"Agali\"\n",
    "                print_tile34_hand(current_hand)\n",
    "                print data[i][1]\n",
    "                print \"============\"\n",
    "            break\n",
    "        else:\n",
    "            discard = compute_discard_jinzhange(current_hand, left_tiles)\n",
    "            current_hand[discard] -= 1\n",
    "            if is_debug:\n",
    "                print TO_GRAPH_LIST[discard]\n",
    "    \n",
    "    # generate reward\n",
    "    i -= 1\n",
    "    while i >= 0:\n",
    "        data[i][1] += data[i + 1][1] * DISCOUNT_FACTOR\n",
    "        i -= 1\n",
    "    \n",
    "    return data "
   ]
  },
  {
   "cell_type": "code",
   "execution_count": 42,
   "metadata": {
    "scrolled": true
   },
   "outputs": [
    {
     "name": "stdout",
     "output_type": "stream",
     "text": [
      "[[[0, 1, 2, 5, 6, 6, 12, 15, 16, 16, 18, 23, 29], 13.017892666607663], [[0, 1, 2, 5, 6, 6, 12, 14, 15, 16, 16, 18, 23], 13.703044912218592], [[0, 1, 2, 5, 6, 6, 12, 14, 15, 15, 16, 16, 23], 14.424257802335362], [[0, 1, 2, 5, 6, 6, 14, 15, 15, 16, 16, 21, 23], 15.183429265616171], [[0, 1, 2, 5, 6, 6, 14, 15, 15, 16, 16, 23, 23], 15.982557121701234], [[0, 1, 2, 5, 6, 14, 15, 15, 16, 16, 16, 23, 23], 16.823744338632878], [[0, 1, 2, 5, 6, 14, 15, 15, 16, 16, 16, 23, 23], 17.709204566981978], [[0, 1, 2, 5, 6, 14, 15, 15, 16, 16, 16, 23, 23], 18.641267965244186], [[1, 2, 3, 5, 6, 14, 15, 15, 16, 16, 16, 23, 23], 19.622387331835984], [[1, 2, 3, 5, 6, 7, 14, 15, 16, 16, 16, 23, 23], 20.655144559827352], [[1, 2, 3, 5, 6, 7, 14, 15, 16, 16, 16, 23, 23], 21.742257431397213], [[1, 2, 3, 5, 6, 7, 14, 15, 16, 16, 16, 23, 23], 22.886586769891803], [[1, 2, 3, 5, 6, 7, 14, 15, 16, 16, 16, 23, 23], 24.09114396830716], [[1, 2, 3, 5, 6, 7, 14, 15, 16, 16, 16, 23, 23], 25.35909891400754], [[1, 2, 3, 5, 6, 7, 14, 15, 16, 16, 16, 23, 23], 26.693788330534254], [[1, 2, 3, 5, 6, 7, 14, 15, 16, 16, 16, 23, 24], 28.09872455845711], [[1, 2, 3, 5, 6, 7, 14, 15, 16, 16, 16, 23, 24], 29.57760479837591], [[1, 2, 3, 5, 6, 7, 14, 15, 16, 16, 16, 23, 24], 31.134320840395695], [[1, 2, 3, 5, 6, 7, 14, 15, 16, 16, 16, 23, 24], 32.77296930567968], [[1, 2, 3, 5, 6, 7, 14, 15, 16, 16, 16, 23, 24], 34.497862427031244], [[1, 2, 3, 5, 6, 7, 14, 15, 16, 16, 16, 23, 24], 36.313539396874994], [[1, 2, 3, 5, 6, 7, 14, 15, 16, 16, 16, 23, 24], 38.22477831249999], [[1, 2, 3, 5, 6, 7, 14, 15, 16, 16, 16, 23, 24], 40.236608749999995], [[1, 2, 3, 5, 6, 7, 14, 15, 16, 16, 16, 23, 24], 42.354324999999996], [[1, 2, 3, 5, 6, 7, 14, 15, 16, 16, 16, 23, 24], 44.5835], [[0, 1, 2, 5, 6, 7, 14, 15, 16, 16, 16, 23, 24], 46.93], [[0, 1, 2, 5, 6, 7, 14, 15, 16, 16, 16, 23, 24], 49.4], [[0, 1, 2, 5, 6, 7, 14, 15, 16, 16, 16, 23, 24], 52.0]]\n"
     ]
    }
   ],
   "source": [
    "data = simulate(hands[0][1], discard)\n",
    "print data"
   ]
  },
  {
   "cell_type": "code",
   "execution_count": null,
   "metadata": {
    "collapsed": true
   },
   "outputs": [],
   "source": [
    "from mahjong.tile import TilesConverter\n",
    "tiles = TilesConverter.string_to_34_array(man='', \n",
    "                                          pin='234445789', \n",
    "                                          sou='1568')"
   ]
  },
  {
   "cell_type": "code",
   "execution_count": 33,
   "metadata": {},
   "outputs": [
    {
     "name": "stdout",
     "output_type": "stream",
     "text": [
      "[[[0, 1, 2, 5, 6, 6, 12, 15, 16, 16, 18, 23, 29], 7.0], [[1, 2, 2, 5, 6, 6, 12, 15, 16, 16, 18, 23, 29], 8.0], [[1, 2, 2, 5, 6, 6, 11, 12, 15, 16, 16, 18, 29], 9.0], [[1, 2, 2, 5, 6, 6, 11, 12, 15, 16, 16, 18, 29], 10.0], [[1, 2, 2, 5, 6, 6, 11, 12, 15, 16, 16, 18, 29], 11.0], [[1, 2, 2, 6, 6, 11, 11, 12, 15, 16, 16, 18, 29], 12.0], [[2, 2, 6, 6, 11, 11, 12, 15, 16, 16, 18, 29, 29], 13.0], [[2, 2, 6, 6, 10, 11, 11, 12, 16, 16, 18, 29, 29], 14.0], [[2, 2, 6, 6, 10, 11, 11, 13, 16, 16, 18, 29, 29], 15.0], [[2, 2, 6, 6, 10, 11, 11, 13, 16, 16, 26, 29, 29], 16.0], [[2, 2, 6, 6, 10, 11, 11, 13, 16, 16, 26, 29, 29], 17.0], [[2, 2, 6, 6, 10, 11, 11, 13, 16, 16, 26, 29, 29], 18.0], [[2, 2, 6, 6, 10, 11, 11, 13, 16, 16, 26, 29, 29], 19.0], [[2, 2, 6, 6, 10, 11, 11, 13, 16, 16, 26, 29, 29], 20.0], [[2, 2, 6, 6, 11, 11, 13, 16, 16, 26, 27, 29, 29], 21.0], [[2, 2, 6, 6, 11, 11, 13, 16, 16, 26, 27, 29, 29], 22.0], [[2, 2, 6, 6, 9, 11, 11, 13, 16, 16, 27, 29, 29], 23.0], [[2, 2, 4, 6, 6, 9, 11, 11, 16, 16, 27, 29, 29], 24.0], [[2, 2, 4, 6, 6, 9, 11, 11, 16, 16, 17, 29, 29], 25.0], [[2, 2, 4, 6, 6, 9, 11, 11, 16, 16, 17, 29, 29], 26.0], [[2, 2, 6, 6, 9, 11, 11, 16, 16, 17, 22, 29, 29], 27.0], [[2, 2, 6, 6, 9, 11, 11, 16, 16, 22, 29, 29, 31], 28.0], [[2, 2, 6, 6, 9, 11, 11, 16, 16, 22, 29, 29, 31], 29.0], [[2, 2, 6, 6, 9, 11, 11, 16, 16, 22, 22, 29, 29], 30.0], [[2, 2, 6, 6, 11, 11, 16, 16, 22, 22, 29, 29, 33], 31.0], [[2, 2, 6, 6, 11, 11, 16, 16, 22, 22, 29, 29, 33], 32.0]]\n"
     ]
    }
   ],
   "source": [
    "print data"
   ]
  },
  {
   "cell_type": "code",
   "execution_count": null,
   "metadata": {
    "collapsed": true
   },
   "outputs": [],
   "source": [
    "print tiles"
   ]
  },
  {
   "cell_type": "code",
   "execution_count": null,
   "metadata": {
    "collapsed": true
   },
   "outputs": [],
   "source": [
    "win_tile = TilesConverter.string_to_136_array(sou='4')[0]\n",
    "print win_tile"
   ]
  },
  {
   "cell_type": "code",
   "execution_count": null,
   "metadata": {
    "collapsed": true
   },
   "outputs": [],
   "source": []
  }
 ],
 "metadata": {
  "kernelspec": {
   "display_name": "Python 2",
   "language": "python",
   "name": "python2"
  },
  "language_info": {
   "codemirror_mode": {
    "name": "ipython",
    "version": 2
   },
   "file_extension": ".py",
   "mimetype": "text/x-python",
   "name": "python",
   "nbconvert_exporter": "python",
   "pygments_lexer": "ipython2",
   "version": "2.7.13"
  }
 },
 "nbformat": 4,
 "nbformat_minor": 2
}
