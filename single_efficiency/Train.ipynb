{
 "cells": [
  {
   "cell_type": "code",
   "execution_count": null,
   "metadata": {
    "collapsed": true
   },
   "outputs": [],
   "source": [
    "import sys\n",
    "sys.path.insert(0, \"/Users/xinran.he/GitProjects/mahjong\")"
   ]
  },
  {
   "cell_type": "code",
   "execution_count": null,
   "metadata": {
    "collapsed": true
   },
   "outputs": [],
   "source": [
    "import numpy as np\n",
    "import random\n",
    "import tensorflow as tf"
   ]
  },
  {
   "cell_type": "code",
   "execution_count": null,
   "metadata": {
    "collapsed": true
   },
   "outputs": [],
   "source": [
    "from single_efficiency.transformer import Transformer\n",
    "from single_efficiency import utils, game_play, base_strategy"
   ]
  },
  {
   "cell_type": "code",
   "execution_count": null,
   "metadata": {
    "collapsed": true
   },
   "outputs": [],
   "source": [
    "PARAMS = {\n",
    "    # Model params\n",
    "    \"initializer_gain\": 1.0,  # Used in trainable variable initialization.\n",
    "    \"hidden_size\": 16, # Model dimension in the hidden layers, input embedding dimension\n",
    "    \"num_hidden_layers\": 2, # Number of layers in the encoder stacks.\n",
    "    \"num_heads\": 2,\n",
    "    \"filter_size\": 16,\n",
    "    \n",
    "    # Dropout values (only used when training)\n",
    "    \"layer_postprocess_dropout\": 0.1,\n",
    "    \"attention_dropout\": 0.1,\n",
    "    \"relu_dropout\": 0.1,\n",
    "    \n",
    "    # Params for transformer TPU\n",
    "    \"allow_ffn_pad\": True,\n",
    "    \n",
    "    # training\n",
    "    \"learning_rate\": 0.001,\n",
    "    \"learning_rate_warmup_steps\": 16000,\n",
    "\n",
    "    \"optimizer_adam_beta1\": 0.9,\n",
    "    \"optimizer_adam_beta2\": 0.997,\n",
    "    \"optimizer_adam_epsilon\": 1e-09,    \n",
    "}"
   ]
  },
  {
   "cell_type": "code",
   "execution_count": null,
   "metadata": {
    "collapsed": true
   },
   "outputs": [],
   "source": [
    "class Model(object):\n",
    "    def __init__(self, params):\n",
    "        self.params = params\n",
    "        self.input_features = tf.placeholder(dtype=tf.int32, shape=(None, 13))\n",
    "        self.input_values = tf.placeholder(dtype=tf.float32, shape=(None))\n",
    "        self.transformer = Transformer(False, self.params)\n",
    "        self.predictions = self.transformer(self.input_features)\n",
    "        \n",
    "        self.loss = tf.losses.mean_squared_error(self.input_values, self.predictions)\n",
    "        optimizer = tf.contrib.opt.LazyAdamOptimizer(\n",
    "            self.params[\"learning_rate\"],\n",
    "            beta1=self.params[\"optimizer_adam_beta1\"],\n",
    "            beta2=self.params[\"optimizer_adam_beta2\"],\n",
    "            epsilon=self.params[\"optimizer_adam_epsilon\"])\n",
    "\n",
    "        global_step = tf.train.get_global_step()\n",
    "        tvars = tf.trainable_variables()\n",
    "        gradients = optimizer.compute_gradients(self.loss, tvars, colocate_gradients_with_ops=True)\n",
    "        minimize_op = optimizer.apply_gradients(gradients, global_step=global_step, name=\"train\")\n",
    "        update_ops = tf.get_collection(tf.GraphKeys.UPDATE_OPS)\n",
    "        \n",
    "        self.train_op = tf.group(minimize_op, update_ops)\n",
    "    \n",
    "    def init(self, sess):\n",
    "        init = tf.global_variables_initializer()\n",
    "        sess.run(init)\n",
    "    \n",
    "    def train(self, sess, features, values):\n",
    "        return sess.run([self.loss, self.train_op], feed_dict={self.input_features:features, self.input_values:values})[0]\n",
    "    \n",
    "    def inference(self, sess, features):\n",
    "        return sess.run(self.predictions, feed_dict={self.input_features:features})"
   ]
  },
  {
   "cell_type": "code",
   "execution_count": null,
   "metadata": {},
   "outputs": [],
   "source": [
    "# model and training ops\n",
    "g=tf.Graph()\n",
    "with g.as_default():\n",
    "    model = Model(PARAMS)\n",
    "    sess = tf.Session()\n",
    "    model.init(sess)"
   ]
  },
  {
   "cell_type": "code",
   "execution_count": null,
   "metadata": {
    "collapsed": true
   },
   "outputs": [],
   "source": [
    "class RLStrategy(object):\n",
    "    def __init__(self, sess, model, epsilon):\n",
    "        self.epsilon = epsilon\n",
    "        self.model = model\n",
    "        self.sess = sess\n",
    "    \n",
    "    def discard(self, tiles, left_tiles):\n",
    "        hands = []\n",
    "        possible_tiles = []\n",
    "        for i in xrange(34):\n",
    "            if tiles[i] > 0:\n",
    "                tiles[i] -= 1\n",
    "                hands.append(utils.tiles34_to_list(tiles))\n",
    "                possible_tiles.append(i)\n",
    "                tiles[i] += 1\n",
    "        if np.random.uniform() <= self.epsilon:\n",
    "            return random.choice(possible_tiles)\n",
    "        else:\n",
    "            predicts = model.inference(sess, hands)\n",
    "            for t, v in zip(possible_tiles, predicts):\n",
    "                print \"%s:%.3f\" % (utils.TO_GRAPH_LIST[t], v)\n",
    "            idx = np.argmax(predicts[:, 0])\n",
    "            return possible_tiles[idx]"
   ]
  },
  {
   "cell_type": "code",
   "execution_count": null,
   "metadata": {
    "collapsed": true
   },
   "outputs": [],
   "source": [
    "hands = utils.load_hand([\"/Users/xinran.he/GitProjects/mahjong/data/single_hand_efficiency/20180101.txt\"])"
   ]
  },
  {
   "cell_type": "code",
   "execution_count": null,
   "metadata": {
    "collapsed": true
   },
   "outputs": [],
   "source": [
    "def sample_init_hands(all_hands, probs):\n",
    "    random.shuffle(all_hands)\n",
    "    hands = []\n",
    "    for hand in all_hands:\n",
    "        if np.random.uniform() <= probs[hand[0]]:\n",
    "            hands.append(hand[1])\n",
    "    return hands"
   ]
  },
  {
   "cell_type": "code",
   "execution_count": null,
   "metadata": {},
   "outputs": [],
   "source": [
    "# Init strategy from GreedyShanten\n",
    "with g.as_default():\n",
    "    sampled_hands = sample_init_hands(hands, [1.0, 1.0, 1.0, 1.0, 1.0, 1.0, 1.0])\n",
    "    NUM_INIT = 10000\n",
    "    p = 0\n",
    "    for i in xrange(NUM_INIT):\n",
    "        data = []\n",
    "        for j in xrange(2):\n",
    "            p = (p + 1) % len(sampled_hands)\n",
    "            data.extend(game_play.simulate(sampled_hands[p], base_strategy.GreedyShanten()))\n",
    "        if len(data) == 0:\n",
    "            continue\n",
    "        features = np.array([d[0] for d in data])\n",
    "        values = np.array([d[1] for d in data])\n",
    "        if i % 100 == 0:\n",
    "            print \"Step: %d avg loss: %.3f\" % (i, model.train(sess, features, values) / len(values))"
   ]
  },
  {
   "cell_type": "raw",
   "metadata": {},
   "source": [
    "print sampled_hands[0]"
   ]
  },
  {
   "cell_type": "code",
   "execution_count": null,
   "metadata": {
    "collapsed": true
   },
   "outputs": [],
   "source": [
    "print sampled_hands[0]"
   ]
  },
  {
   "cell_type": "code",
   "execution_count": null,
   "metadata": {
    "collapsed": true
   },
   "outputs": [],
   "source": [
    "print sampled_hands[0]"
   ]
  },
  {
   "cell_type": "code",
   "execution_count": null,
   "metadata": {
    "collapsed": true
   },
   "outputs": [],
   "source": [
    "print hands[0]"
   ]
  },
  {
   "cell_type": "code",
   "execution_count": null,
   "metadata": {},
   "outputs": [],
   "source": [
    "data = game_play.simulate(sampled_hands[0], RLStrategy(sess, model, 0.0), True)"
   ]
  },
  {
   "cell_type": "code",
   "execution_count": null,
   "metadata": {
    "collapsed": true
   },
   "outputs": [],
   "source": [
    "print data"
   ]
  },
  {
   "cell_type": "code",
   "execution_count": null,
   "metadata": {
    "collapsed": true
   },
   "outputs": [],
   "source": []
  }
 ],
 "metadata": {
  "kernelspec": {
   "display_name": "Python 2",
   "language": "python",
   "name": "python2"
  },
  "language_info": {
   "codemirror_mode": {
    "name": "ipython",
    "version": 2
   },
   "file_extension": ".py",
   "mimetype": "text/x-python",
   "name": "python",
   "nbconvert_exporter": "python",
   "pygments_lexer": "ipython2",
   "version": "2.7.13"
  }
 },
 "nbformat": 4,
 "nbformat_minor": 2
}
