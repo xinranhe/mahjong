{
 "cells": [
  {
   "cell_type": "code",
   "execution_count": null,
   "metadata": {
    "collapsed": true
   },
   "outputs": [],
   "source": [
    "import tensorflow as tf"
   ]
  },
  {
   "cell_type": "code",
   "execution_count": null,
   "metadata": {
    "collapsed": true
   },
   "outputs": [],
   "source": [
    "import os\n",
    "import sys\n",
    "sys.path.insert(0, \"/Users/xinran.he/GitProjects/mahjong\")\n",
    "\n",
    "from log_parser.discard_prediction_parser import parse_discard_prediction"
   ]
  },
  {
   "cell_type": "code",
   "execution_count": null,
   "metadata": {
    "collapsed": true
   },
   "outputs": [],
   "source": [
    "input_file = \"/Users/xinran.he/GitProjects/mahjong/data/raw/20180101/2018010110gm-00a9-0000-033e3e35.txt\"\n",
    "games = parse_discard_prediction(open(input_file, \"r\").read())"
   ]
  },
  {
   "cell_type": "code",
   "execution_count": null,
   "metadata": {
    "collapsed": true
   },
   "outputs": [],
   "source": [
    "def _int64_feature(value):\n",
    "    return tf.train.Feature(int64_list=tf.train.Int64List(value=[value]))\n",
    "\n",
    "def _int64_list_feature(values):\n",
    "    return tf.train.Feature(int64_list=tf.train.Int64List(value=values))"
   ]
  },
  {
   "cell_type": "code",
   "execution_count": null,
   "metadata": {
    "collapsed": true
   },
   "outputs": [],
   "source": [
    "def get_center_features(one_round):\n",
    "    global_context = one_round.global_context\n",
    "    center_context = one_round.center_player.context\n",
    "    feature_dict = {}\n",
    "    feature_dict[\"current_field\"] = _int64_feature(global_context.field)\n",
    "    feature_dict[\"round\"] = _int64_feature(global_context.round)\n",
    "    feature_dict[\"center_field\"] = _int64_feature(center_context.field)\n",
    "    feature_dict[\"center_oya\"] = _int64_feature(int(center_context.is_dealer))\n",
    "    return feature_dict"
   ]
  },
  {
   "cell_type": "code",
   "execution_count": null,
   "metadata": {
    "collapsed": true
   },
   "outputs": [],
   "source": [
    "def is_player_riichi(player):\n",
    "    for discarded_hai in player.discarded_hai:\n",
    "        if discarded_hai.is_after_riichi:\n",
    "            return True\n",
    "    return False"
   ]
  },
  {
   "cell_type": "code",
   "execution_count": null,
   "metadata": {
    "collapsed": true
   },
   "outputs": [],
   "source": [
    "MAX_SCORE_DIFF = 32000\n",
    "SCORE_DIFF_DET = 400\n",
    "\n",
    "def player_score_diff(center_score, player_score):\n",
    "    diff = max(min(MAX_SCORE_DIFF, center_score - player_score), -MAX_SCORE_DIFF)\n",
    "    diff = diff // SCORE_DIFF_DET\n",
    "    return diff + MAX_SCORE_DIFF / SCORE_DIFF_DET"
   ]
  },
  {
   "cell_type": "code",
   "execution_count": null,
   "metadata": {
    "collapsed": true
   },
   "outputs": [],
   "source": [
    "def get_player_features(one_round):\n",
    "    feature_dict = {}\n",
    "    center_context = one_round.center_player.context\n",
    "    for pid, player in enumerate(one_round.other_player):\n",
    "        player_context = player.context\n",
    "        feature_dict[\"player%d_oya\" % pid] = _int64_feature(player_context.is_dealer)\n",
    "        feature_dict[\"player%d_field\" % pid] = _int64_feature(player_context.field)\n",
    "        feature_dict[\"player%d_riichi\" % pid] = _int64_feature(int(is_player_riichi(player)))\n",
    "        feature_dict[\"player%d_claim\" % pid] = _int64_feature(len(player.claim))\n",
    "        feature_dict[\"player%d_order\" % pid] = _int64_feature(3 + center_context.order - player_context.order)\n",
    "        feature_dict[\"player%d_score\" % pid] = _int64_feature(player_score_diff(center_context.score, player_context.score))\n",
    "    return feature_dict"
   ]
  },
  {
   "cell_type": "code",
   "execution_count": null,
   "metadata": {
    "collapsed": true
   },
   "outputs": [],
   "source": [
    "CLS_TOKEN = 69\n",
    "SEP_TOKEN = 70\n",
    "PADDING = 0\n",
    "\n",
    "def get_hid(hai, doras):\n",
    "    if hai.id in doras or hai.is_red:\n",
    "        return 2 * (hai.id + 1)\n",
    "    else:\n",
    "        return hai.id + 1   \n",
    "\n",
    "def get_sequence_features(one_round):\n",
    "    center_player = one_round.center_player\n",
    "    doras = [h.id for h in one_round.global_context.dora]\n",
    "    \n",
    "    hai_seq = [CLS_TOKEN]\n",
    "    pos_seq = [0] * 14\n",
    "    feature_seq = [0] * 14\n",
    "    \n",
    "    hai_seq.extend([get_hid(h, doras) for h in center_player.hand])\n",
    "    if len(center_player.hand) < 14:\n",
    "        hai_seq.extend([PADDING] * (14 - center_player.hand))\n",
    "    for i, player in enumerate(one_round.other_player):\n",
    "        hai_seq.append(SEP_TOKEN)\n",
    "        pos_seq.append(0)\n",
    "        feature_seq.append(0)\n",
    "        \n",
    "        hai_seq.extend([get_hid(h.hai, doras) for h in player.discarded_hai])\n",
    "        pos_seq.extend(range(1, 1 + len(player.discarded_hai)))\n",
    "        feature_seq.extend([i + 1] * len(player.discarded_hai))\n",
    "    return {\n",
    "        \"hai_seq\": _int64_list_feature(hai_seq),\n",
    "        \"pos_seq\": _int64_list_feature(pos_seq),\n",
    "        \"feature_seq\": _int64_list_feature(feature_seq)\n",
    "    }"
   ]
  },
  {
   "cell_type": "code",
   "execution_count": null,
   "metadata": {
    "collapsed": true
   },
   "outputs": [],
   "source": [
    "def generate_tfexample(one_round):\n",
    "    features = {}\n",
    "    features.update(get_center_features(one_round))\n",
    "    features.update(get_player_features(one_round))\n",
    "    features.update(get_sequence_features(one_round))\n",
    "    example = tf.train.Example(features=tf.train.Features(feature=features))\n",
    "    return example"
   ]
  },
  {
   "cell_type": "code",
   "execution_count": null,
   "metadata": {
    "collapsed": true
   },
   "outputs": [],
   "source": [
    "print generate_tfexample(games[0].one_round[1])"
   ]
  },
  {
   "cell_type": "code",
   "execution_count": null,
   "metadata": {
    "collapsed": true
   },
   "outputs": [],
   "source": [
    "print hai_seq"
   ]
  },
  {
   "cell_type": "code",
   "execution_count": null,
   "metadata": {
    "collapsed": true
   },
   "outputs": [],
   "source": [
    "print pos_seq"
   ]
  },
  {
   "cell_type": "code",
   "execution_count": null,
   "metadata": {
    "collapsed": true
   },
   "outputs": [],
   "source": [
    "print feature_seq"
   ]
  },
  {
   "cell_type": "code",
   "execution_count": null,
   "metadata": {
    "collapsed": true
   },
   "outputs": [],
   "source": [
    "print games[0].one_round[1]"
   ]
  },
  {
   "cell_type": "code",
   "execution_count": null,
   "metadata": {
    "collapsed": true
   },
   "outputs": [],
   "source": [
    "temp = \"/Users/xinran.he/GitProjects/mahjong/data/raw/20180101\"\n",
    "dirs = os.listdir(temp)"
   ]
  },
  {
   "cell_type": "code",
   "execution_count": null,
   "metadata": {
    "collapsed": true
   },
   "outputs": [],
   "source": [
    "def generate_data(folder_path):\n",
    "    for file in os.listdir(folder_path):\n",
    "        file_path = \"%s/%s\" % (folder_path, file)\n",
    "        print file_path\n",
    "\n",
    "generate_data(temp)"
   ]
  },
  {
   "cell_type": "code",
   "execution_count": null,
   "metadata": {
    "collapsed": true
   },
   "outputs": [],
   "source": []
  }
 ],
 "metadata": {
  "kernelspec": {
   "display_name": "Python 2",
   "language": "python",
   "name": "python2"
  },
  "language_info": {
   "codemirror_mode": {
    "name": "ipython",
    "version": 2
   },
   "file_extension": ".py",
   "mimetype": "text/x-python",
   "name": "python",
   "nbconvert_exporter": "python",
   "pygments_lexer": "ipython2",
   "version": "2.7.13"
  }
 },
 "nbformat": 4,
 "nbformat_minor": 2
}
