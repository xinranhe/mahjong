{
 "cells": [
  {
   "cell_type": "code",
   "execution_count": null,
   "metadata": {
    "collapsed": true
   },
   "outputs": [],
   "source": [
    "import tensorflow as tf\n",
    "import numpy as np\n",
    "import os\n",
    "import sys\n",
    "sys.path.insert(0, \"/Users/xinran.he/GitProjects/mahjong\")"
   ]
  },
  {
   "cell_type": "code",
   "execution_count": null,
   "metadata": {},
   "outputs": [],
   "source": [
    "%%javascript\n",
    "IPython.OutputArea.prototype._should_scroll = function(lines) {\n",
    "    return false;\n",
    "}"
   ]
  },
  {
   "cell_type": "code",
   "execution_count": null,
   "metadata": {
    "collapsed": true
   },
   "outputs": [],
   "source": [
    "from log_parser.discard_prediction_parser import parse_discard_prediction\n",
    "from log_parser.discard_prediction_training_data import generate_tfexample"
   ]
  },
  {
   "cell_type": "code",
   "execution_count": null,
   "metadata": {
    "collapsed": true
   },
   "outputs": [],
   "source": [
    "input_file = \"/Users/xinran.he/GitProjects/mahjong/data/raw/20180101/2018010112gm-00a9-0000-bc388570.txt\"\n",
    "games = parse_discard_prediction(open(input_file, \"r\").read())"
   ]
  },
  {
   "cell_type": "code",
   "execution_count": null,
   "metadata": {
    "collapsed": true
   },
   "outputs": [],
   "source": [
    "def print_one_round(one_round):\n",
    "    print \"current hai:\",\n",
    "    for hai in one_round.center_player.hand:\n",
    "        print hai.char,\n",
    "    print\n",
    "    for i, other_player in enumerate(one_round.other_player):\n",
    "        if len(other_player.discarded_hai) > 0:\n",
    "            last_hai = other_player.discarded_hai[-1]\n",
    "            print \"player%d claims: %d is_riich: %d discarded:\" % (i, last_hai.num_claim, last_hai.is_after_riichi),\n",
    "        else:\n",
    "            print \"player%d claims: %d is_riich: %d discarded:\" % (i, 0, 0), \n",
    "        for dh in other_player.discarded_hai:\n",
    "            print dh.hai.char,\n",
    "        print\n",
    "    print \"discarded: %s\" % (one_round.discarded_hai.char)\n",
    "    print \"================================================\""
   ]
  },
  {
   "cell_type": "code",
   "execution_count": null,
   "metadata": {},
   "outputs": [],
   "source": [
    "with tf.Session() as sess:\n",
    "    meta_graph_def = tf.saved_model.loader.load(\n",
    "        sess,\n",
    "        [tf.saved_model.tag_constants.SERVING],\n",
    "        '/Users/xinran.he/GitProjects/mahjong/training/v2_1553184126')\n",
    "    graph = tf.get_default_graph()\n",
    "    input_tensor = graph.get_tensor_by_name(\"input:0\")\n",
    "    logits = graph.get_tensor_by_name(\"model/Transformer/Squeeze:0\")\n",
    "    is_riichi = set()\n",
    "    for one_round in games[2].one_round:\n",
    "        center_player = one_round.center_player\n",
    "        input_tfrecord = generate_tfexample(one_round, len(is_riichi)>0).SerializeToString()\n",
    "        pred = sess.run(logits, feed_dict={input_tensor: [input_tfrecord]})\n",
    "        print_one_round(one_round)\n",
    "        print one_round.center_player.hand[np.argmax(pred)].char\n",
    "        if center_player.is_riichi:\n",
    "            is_riichi.add(center_player.context.field)"
   ]
  },
  {
   "cell_type": "code",
   "execution_count": null,
   "metadata": {
    "collapsed": true
   },
   "outputs": [],
   "source": [
    "\n"
   ]
  }
 ],
 "metadata": {
  "kernelspec": {
   "display_name": "Python 2",
   "language": "python",
   "name": "python2"
  },
  "language_info": {
   "codemirror_mode": {
    "name": "ipython",
    "version": 2
   },
   "file_extension": ".py",
   "mimetype": "text/x-python",
   "name": "python",
   "nbconvert_exporter": "python",
   "pygments_lexer": "ipython2",
   "version": "2.7.13"
  }
 },
 "nbformat": 4,
 "nbformat_minor": 2
}
